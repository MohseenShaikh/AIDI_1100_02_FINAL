{
  "nbformat": 4,
  "nbformat_minor": 0,
  "metadata": {
    "colab": {
      "name": "AIDI_1100_02_FINAL-PROJECT_GROUP-1.ipynb",
      "provenance": [],
      "collapsed_sections": [
        "Y85UsCg6nX4a",
        "kEiUnXhfF4E8",
        "v3wUEQvs8__d",
        "CTuN1A_dGh7o"
      ]
    },
    "kernelspec": {
      "name": "python3",
      "display_name": "Python 3"
    },
    "language_info": {
      "name": "python"
    }
  },
  "cells": [
    {
      "cell_type": "markdown",
      "metadata": {
        "id": "DITpTeHJ0shH"
      },
      "source": [
        "# Group Number: Group-1\n",
        "\n",
        "## Course Code: AIDI-1100-02\n",
        "## Group Members: \n",
        "1. KrishnaMohan Pingali(100820336) \n",
        "2. Monica Prithvi Kalyani Karingula(100805011)\n",
        "3. Mohseen Mehmood Shaikh(100799844)\n",
        "4. Harsha Patel(100807201)\n",
        "\n",
        "## Submission Date: 9th April,2021"
      ]
    },
    {
      "cell_type": "markdown",
      "metadata": {
        "id": "Y85UsCg6nX4a"
      },
      "source": [
        "###Initial setup to load custom module\n",
        "\n",
        "1. Mounting the drive   \n",
        "2. Update the system path with GDrive for colab\n",
        "\n",
        "Note: There might be an issue with respect to authorization code of the Google Colab GDrive file.\n",
        "If the initial setup for loading custom module fails, skip it and please follow below steps for manually adding the file:\n",
        "1. Visit github link: - https://github.com/MohseenShaikh/AIDI_1100_02_FINAL\n",
        "2. Download the **MyCalender.py** file\n",
        "3. Upload it to the current colab file runtime to run the code\n",
        "\n"
      ]
    },
    {
      "cell_type": "code",
      "metadata": {
        "id": "A29qT4rsnXSe",
        "colab": {
          "base_uri": "https://localhost:8080/",
          "height": 569
        },
        "outputId": "191947d3-c922-4a39-d7bc-b8ef1db465be"
      },
      "source": [
        "# Mount google drive to this colab file with authorization\n",
        "from google.colab import drive\n",
        "drive.mount('/content/gdrive')"
      ],
      "execution_count": 28,
      "outputs": [
        {
          "output_type": "error",
          "ename": "KeyboardInterrupt",
          "evalue": "ignored",
          "traceback": [
            "\u001b[0;31m---------------------------------------------------------------------------\u001b[0m",
            "\u001b[0;31mKeyboardInterrupt\u001b[0m                         Traceback (most recent call last)",
            "\u001b[0;32m/usr/local/lib/python3.7/dist-packages/ipykernel/kernelbase.py\u001b[0m in \u001b[0;36m_input_request\u001b[0;34m(self, prompt, ident, parent, password)\u001b[0m\n\u001b[1;32m    728\u001b[0m             \u001b[0;32mtry\u001b[0m\u001b[0;34m:\u001b[0m\u001b[0;34m\u001b[0m\u001b[0;34m\u001b[0m\u001b[0m\n\u001b[0;32m--> 729\u001b[0;31m                 \u001b[0mident\u001b[0m\u001b[0;34m,\u001b[0m \u001b[0mreply\u001b[0m \u001b[0;34m=\u001b[0m \u001b[0mself\u001b[0m\u001b[0;34m.\u001b[0m\u001b[0msession\u001b[0m\u001b[0;34m.\u001b[0m\u001b[0mrecv\u001b[0m\u001b[0;34m(\u001b[0m\u001b[0mself\u001b[0m\u001b[0;34m.\u001b[0m\u001b[0mstdin_socket\u001b[0m\u001b[0;34m,\u001b[0m \u001b[0;36m0\u001b[0m\u001b[0;34m)\u001b[0m\u001b[0;34m\u001b[0m\u001b[0;34m\u001b[0m\u001b[0m\n\u001b[0m\u001b[1;32m    730\u001b[0m             \u001b[0;32mexcept\u001b[0m \u001b[0mException\u001b[0m\u001b[0;34m:\u001b[0m\u001b[0;34m\u001b[0m\u001b[0;34m\u001b[0m\u001b[0m\n",
            "\u001b[0;32m/usr/local/lib/python3.7/dist-packages/jupyter_client/session.py\u001b[0m in \u001b[0;36mrecv\u001b[0;34m(self, socket, mode, content, copy)\u001b[0m\n\u001b[1;32m    802\u001b[0m         \u001b[0;32mtry\u001b[0m\u001b[0;34m:\u001b[0m\u001b[0;34m\u001b[0m\u001b[0;34m\u001b[0m\u001b[0m\n\u001b[0;32m--> 803\u001b[0;31m             \u001b[0mmsg_list\u001b[0m \u001b[0;34m=\u001b[0m \u001b[0msocket\u001b[0m\u001b[0;34m.\u001b[0m\u001b[0mrecv_multipart\u001b[0m\u001b[0;34m(\u001b[0m\u001b[0mmode\u001b[0m\u001b[0;34m,\u001b[0m \u001b[0mcopy\u001b[0m\u001b[0;34m=\u001b[0m\u001b[0mcopy\u001b[0m\u001b[0;34m)\u001b[0m\u001b[0;34m\u001b[0m\u001b[0;34m\u001b[0m\u001b[0m\n\u001b[0m\u001b[1;32m    804\u001b[0m         \u001b[0;32mexcept\u001b[0m \u001b[0mzmq\u001b[0m\u001b[0;34m.\u001b[0m\u001b[0mZMQError\u001b[0m \u001b[0;32mas\u001b[0m \u001b[0me\u001b[0m\u001b[0;34m:\u001b[0m\u001b[0;34m\u001b[0m\u001b[0;34m\u001b[0m\u001b[0m\n",
            "\u001b[0;32m/usr/local/lib/python3.7/dist-packages/zmq/sugar/socket.py\u001b[0m in \u001b[0;36mrecv_multipart\u001b[0;34m(self, flags, copy, track)\u001b[0m\n\u001b[1;32m    582\u001b[0m         \"\"\"\n\u001b[0;32m--> 583\u001b[0;31m         \u001b[0mparts\u001b[0m \u001b[0;34m=\u001b[0m \u001b[0;34m[\u001b[0m\u001b[0mself\u001b[0m\u001b[0;34m.\u001b[0m\u001b[0mrecv\u001b[0m\u001b[0;34m(\u001b[0m\u001b[0mflags\u001b[0m\u001b[0;34m,\u001b[0m \u001b[0mcopy\u001b[0m\u001b[0;34m=\u001b[0m\u001b[0mcopy\u001b[0m\u001b[0;34m,\u001b[0m \u001b[0mtrack\u001b[0m\u001b[0;34m=\u001b[0m\u001b[0mtrack\u001b[0m\u001b[0;34m)\u001b[0m\u001b[0;34m]\u001b[0m\u001b[0;34m\u001b[0m\u001b[0;34m\u001b[0m\u001b[0m\n\u001b[0m\u001b[1;32m    584\u001b[0m         \u001b[0;31m# have first part already, only loop while more to receive\u001b[0m\u001b[0;34m\u001b[0m\u001b[0;34m\u001b[0m\u001b[0;34m\u001b[0m\u001b[0m\n",
            "\u001b[0;32mzmq/backend/cython/socket.pyx\u001b[0m in \u001b[0;36mzmq.backend.cython.socket.Socket.recv\u001b[0;34m()\u001b[0m\n",
            "\u001b[0;32mzmq/backend/cython/socket.pyx\u001b[0m in \u001b[0;36mzmq.backend.cython.socket.Socket.recv\u001b[0;34m()\u001b[0m\n",
            "\u001b[0;32mzmq/backend/cython/socket.pyx\u001b[0m in \u001b[0;36mzmq.backend.cython.socket._recv_copy\u001b[0;34m()\u001b[0m\n",
            "\u001b[0;32m/usr/local/lib/python3.7/dist-packages/zmq/backend/cython/checkrc.pxd\u001b[0m in \u001b[0;36mzmq.backend.cython.checkrc._check_rc\u001b[0;34m()\u001b[0m\n",
            "\u001b[0;31mKeyboardInterrupt\u001b[0m: ",
            "\nDuring handling of the above exception, another exception occurred:\n",
            "\u001b[0;31mKeyboardInterrupt\u001b[0m                         Traceback (most recent call last)",
            "\u001b[0;32m<ipython-input-28-c21206f42e6a>\u001b[0m in \u001b[0;36m<module>\u001b[0;34m()\u001b[0m\n\u001b[1;32m      1\u001b[0m \u001b[0;31m# Mount google drive to this colab file with authorization\u001b[0m\u001b[0;34m\u001b[0m\u001b[0;34m\u001b[0m\u001b[0;34m\u001b[0m\u001b[0m\n\u001b[1;32m      2\u001b[0m \u001b[0;32mfrom\u001b[0m \u001b[0mgoogle\u001b[0m\u001b[0;34m.\u001b[0m\u001b[0mcolab\u001b[0m \u001b[0;32mimport\u001b[0m \u001b[0mdrive\u001b[0m\u001b[0;34m\u001b[0m\u001b[0;34m\u001b[0m\u001b[0m\n\u001b[0;32m----> 3\u001b[0;31m \u001b[0mdrive\u001b[0m\u001b[0;34m.\u001b[0m\u001b[0mmount\u001b[0m\u001b[0;34m(\u001b[0m\u001b[0;34m'/content/gdrive'\u001b[0m\u001b[0;34m)\u001b[0m\u001b[0;34m\u001b[0m\u001b[0;34m\u001b[0m\u001b[0m\n\u001b[0m",
            "\u001b[0;32m/usr/local/lib/python3.7/dist-packages/google/colab/drive.py\u001b[0m in \u001b[0;36mmount\u001b[0;34m(mountpoint, force_remount, timeout_ms, use_metadata_server)\u001b[0m\n\u001b[1;32m    258\u001b[0m       \u001b[0;32mwith\u001b[0m \u001b[0m_output\u001b[0m\u001b[0;34m.\u001b[0m\u001b[0muse_tags\u001b[0m\u001b[0;34m(\u001b[0m\u001b[0;34m'dfs-auth-dance'\u001b[0m\u001b[0;34m)\u001b[0m\u001b[0;34m:\u001b[0m\u001b[0;34m\u001b[0m\u001b[0;34m\u001b[0m\u001b[0m\n\u001b[1;32m    259\u001b[0m         \u001b[0;32mwith\u001b[0m \u001b[0mopen\u001b[0m\u001b[0;34m(\u001b[0m\u001b[0mfifo\u001b[0m\u001b[0;34m,\u001b[0m \u001b[0;34m'w'\u001b[0m\u001b[0;34m)\u001b[0m \u001b[0;32mas\u001b[0m \u001b[0mfifo_file\u001b[0m\u001b[0;34m:\u001b[0m\u001b[0;34m\u001b[0m\u001b[0;34m\u001b[0m\u001b[0m\n\u001b[0;32m--> 260\u001b[0;31m           \u001b[0mfifo_file\u001b[0m\u001b[0;34m.\u001b[0m\u001b[0mwrite\u001b[0m\u001b[0;34m(\u001b[0m\u001b[0mget_code\u001b[0m\u001b[0;34m(\u001b[0m\u001b[0mauth_prompt\u001b[0m\u001b[0;34m)\u001b[0m \u001b[0;34m+\u001b[0m \u001b[0;34m'\\n'\u001b[0m\u001b[0;34m)\u001b[0m\u001b[0;34m\u001b[0m\u001b[0;34m\u001b[0m\u001b[0m\n\u001b[0m\u001b[1;32m    261\u001b[0m       \u001b[0mwrote_to_fifo\u001b[0m \u001b[0;34m=\u001b[0m \u001b[0;32mTrue\u001b[0m\u001b[0;34m\u001b[0m\u001b[0;34m\u001b[0m\u001b[0m\n\u001b[1;32m    262\u001b[0m     \u001b[0;32melif\u001b[0m \u001b[0mcase\u001b[0m \u001b[0;34m==\u001b[0m \u001b[0;36m5\u001b[0m\u001b[0;34m:\u001b[0m\u001b[0;34m\u001b[0m\u001b[0;34m\u001b[0m\u001b[0m\n",
            "\u001b[0;32m/usr/local/lib/python3.7/dist-packages/ipykernel/kernelbase.py\u001b[0m in \u001b[0;36mraw_input\u001b[0;34m(self, prompt)\u001b[0m\n\u001b[1;32m    702\u001b[0m             \u001b[0mself\u001b[0m\u001b[0;34m.\u001b[0m\u001b[0m_parent_ident\u001b[0m\u001b[0;34m,\u001b[0m\u001b[0;34m\u001b[0m\u001b[0;34m\u001b[0m\u001b[0m\n\u001b[1;32m    703\u001b[0m             \u001b[0mself\u001b[0m\u001b[0;34m.\u001b[0m\u001b[0m_parent_header\u001b[0m\u001b[0;34m,\u001b[0m\u001b[0;34m\u001b[0m\u001b[0;34m\u001b[0m\u001b[0m\n\u001b[0;32m--> 704\u001b[0;31m             \u001b[0mpassword\u001b[0m\u001b[0;34m=\u001b[0m\u001b[0;32mFalse\u001b[0m\u001b[0;34m,\u001b[0m\u001b[0;34m\u001b[0m\u001b[0;34m\u001b[0m\u001b[0m\n\u001b[0m\u001b[1;32m    705\u001b[0m         )\n\u001b[1;32m    706\u001b[0m \u001b[0;34m\u001b[0m\u001b[0m\n",
            "\u001b[0;32m/usr/local/lib/python3.7/dist-packages/ipykernel/kernelbase.py\u001b[0m in \u001b[0;36m_input_request\u001b[0;34m(self, prompt, ident, parent, password)\u001b[0m\n\u001b[1;32m    732\u001b[0m             \u001b[0;32mexcept\u001b[0m \u001b[0mKeyboardInterrupt\u001b[0m\u001b[0;34m:\u001b[0m\u001b[0;34m\u001b[0m\u001b[0;34m\u001b[0m\u001b[0m\n\u001b[1;32m    733\u001b[0m                 \u001b[0;31m# re-raise KeyboardInterrupt, to truncate traceback\u001b[0m\u001b[0;34m\u001b[0m\u001b[0;34m\u001b[0m\u001b[0;34m\u001b[0m\u001b[0m\n\u001b[0;32m--> 734\u001b[0;31m                 \u001b[0;32mraise\u001b[0m \u001b[0mKeyboardInterrupt\u001b[0m\u001b[0;34m\u001b[0m\u001b[0;34m\u001b[0m\u001b[0m\n\u001b[0m\u001b[1;32m    735\u001b[0m             \u001b[0;32melse\u001b[0m\u001b[0;34m:\u001b[0m\u001b[0;34m\u001b[0m\u001b[0;34m\u001b[0m\u001b[0m\n\u001b[1;32m    736\u001b[0m                 \u001b[0;32mbreak\u001b[0m\u001b[0;34m\u001b[0m\u001b[0;34m\u001b[0m\u001b[0m\n",
            "\u001b[0;31mKeyboardInterrupt\u001b[0m: "
          ]
        }
      ]
    },
    {
      "cell_type": "code",
      "metadata": {
        "id": "aRP8AAs8nwYY"
      },
      "source": [
        "# Check for the python files in th drive\n",
        "!ls /content/gdrive/My\\ Drive/*.py"
      ],
      "execution_count": null,
      "outputs": []
    },
    {
      "cell_type": "code",
      "metadata": {
        "id": "DVdsvy98n8qV"
      },
      "source": [
        "#We'll need to update our path to import from Drive.\n",
        "import sys\n",
        "sys.path.append('/content/gdrive/My Drive')"
      ],
      "execution_count": null,
      "outputs": []
    },
    {
      "cell_type": "markdown",
      "metadata": {
        "id": "kEiUnXhfF4E8"
      },
      "source": [
        "###PART 1\n",
        "Periodical Scanning and Parsing of news from the newswire website"
      ]
    },
    {
      "cell_type": "code",
      "metadata": {
        "id": "aNpqfdd6nyxu"
      },
      "source": [
        "# Import the packages\n",
        "\n",
        "#Webpage parsing --> use package BS4, function called BeautifulSoup\n",
        "from bs4 import BeautifulSoup\n",
        "\n",
        "# Call for html webpages \n",
        "import requests\n",
        "\n",
        "# Import pandas\n",
        "import pandas as pd\n",
        "\n",
        "# Import regex\n",
        "import re"
      ],
      "execution_count": 29,
      "outputs": []
    },
    {
      "cell_type": "code",
      "metadata": {
        "id": "2a6CApqWiEy7",
        "colab": {
          "base_uri": "https://localhost:8080/"
        },
        "outputId": "736cefc3-c453-4366-9778-b2e3de196a76"
      },
      "source": [
        "# This is the demonstration of the custom module \n",
        "# import the custom module - MyCalender\n",
        "from MyCalender import MyCalender\n",
        "\n",
        "# instance of the MyCalender\n",
        "my_calender = MyCalender()\n",
        "\n",
        "# Fetch the past dates from the module\n",
        "# This periodically fetches the data given the number of days\n",
        "# For eg: to get a months data pass 30 as parameter\n",
        "dates = my_calender.get_dates_list(7)\n",
        "dates"
      ],
      "execution_count": 30,
      "outputs": [
        {
          "output_type": "execute_result",
          "data": {
            "text/plain": [
              "['2021-04-04',\n",
              " '2021-04-05',\n",
              " '2021-04-06',\n",
              " '2021-04-07',\n",
              " '2021-04-08',\n",
              " '2021-04-09',\n",
              " '2021-04-10']"
            ]
          },
          "metadata": {
            "tags": []
          },
          "execution_count": 30
        }
      ]
    },
    {
      "cell_type": "code",
      "metadata": {
        "id": "I5bngF9f_yG1"
      },
      "source": [
        "# Parses the news data for the given BeautifulSoup\n",
        "# param: soup - BeautifulSoup object\n",
        "# return: a tuple of list of title and desccription\n",
        "def parseNews(soup):\n",
        "\n",
        "  # Class name for filtering and parsing through BeautifulSoup\n",
        "  class_name = {'class': 'remove-outline'}\n",
        "\n",
        "  # Parse all the titles from the news site and store in titles list\n",
        "  titles = []\n",
        "  for h3 in soup.find_all('h3', class_name):  # considering the h3 for Title\n",
        "    # Cleaning the parsed text for newline and leading trailing whitlines\n",
        "    title_text = h3.text.replace('\\n', ' ').strip()   \n",
        "    \n",
        "    titles.append(title_text)\n",
        "\n",
        "  # Parse all the description from the news site and store in descriptions list\n",
        "  descriptions = []\n",
        "  for p in soup.find_all('p', class_name):   # considering the paragraph for description\n",
        "    descriptions.append(p.text)\n",
        "\n",
        "  return (titles, descriptions)"
      ],
      "execution_count": 31,
      "outputs": []
    },
    {
      "cell_type": "code",
      "metadata": {
        "id": "Y1XWd2YQDyL_"
      },
      "source": [
        "# Base URL for news release\n",
        "BASE_URL = 'https://www.prnewswire.com/news-releases/news-releases-list/?'\n",
        "\n",
        "# list for backdated ULRs\n",
        "backdated_urls = []\n",
        "\n",
        "# for loop appends all the parsed dates to the list 'backdated_urls'\n",
        "# Iterate to make the back dated urls for fetching the data of particular date\n",
        "for date in dates:\n",
        "  split = date.split('-')\n",
        "  param_path = 'month={}&day={}&year={}&hour=00'.format(split[1], split[2], split[0])\n",
        "  \n",
        "  backdated_urls.append(BASE_URL + param_path)\n"
      ],
      "execution_count": 32,
      "outputs": []
    },
    {
      "cell_type": "markdown",
      "metadata": {
        "id": "v3wUEQvs8__d"
      },
      "source": [
        "###PART 2\n",
        "Store parsed news and scan the content of the news to find a stock symbol"
      ]
    },
    {
      "cell_type": "code",
      "metadata": {
        "id": "2vTqnoxyM4kW"
      },
      "source": [
        "# List to capture all titles and description parsed from the data\n",
        "all_titles = []\n",
        "all_desc = []\n",
        "\n",
        "# Scrape the given url for news data\n",
        "# The function scrape_url gets all the title and description of news returned by function parseNews()\n",
        "# param: url - News url\n",
        "# returns: Tuple with titles and descriptions\n",
        "def scrape_url(url):\n",
        "  \n",
        "  # Call the request and fetch html data\n",
        "  response = requests.get(url)\n",
        "\n",
        "  # Load data into bs4\n",
        "  soup = BeautifulSoup(response.text, 'html.parser')\n",
        "  return parseNews(soup)\n",
        "\n",
        "# Iterated all the backdated urls and store parsed titles and description of previous one week into all_titles[] and all_desc[]\n",
        "for url in backdated_urls:\n",
        "  titles, description = scrape_url(url)\n",
        "  all_titles = all_titles + titles\n",
        "  all_desc = all_desc + description\n"
      ],
      "execution_count": 33,
      "outputs": []
    },
    {
      "cell_type": "code",
      "metadata": {
        "id": "PKOuhJoJO4jO",
        "colab": {
          "base_uri": "https://localhost:8080/"
        },
        "outputId": "2faf2634-1f95-4e84-a72f-c94453412c15"
      },
      "source": [
        "# Displays all the news titles of last one week\n",
        "all_titles"
      ],
      "execution_count": 34,
      "outputs": [
        {
          "output_type": "execute_result",
          "data": {
            "text/plain": [
              "['Apr 03, 2021, 23:44 ET Behold the pre-ICO Sale of Bitsfine with its BFN Token - a Futuristic Token Offering Multitude Benefits',\n",
              " 'Apr 03, 2021, 19:42 ET Pomerantz Law Firm Announces the Filing of a Class Action against Kadmon Holdings, Inc., and Certain Officers - KDMN',\n",
              " 'Apr 03, 2021, 12:23 ET Applus Team Working 24/7 On Systems Outage',\n",
              " 'Apr 03, 2021, 09:49 ET Hi-Tech Pharmaceuticals Issues Allergy Alert on Various APS Isomorph 28 Products and iForce Nutrition Mass Gainz Dietary Supplements Due to Possible Undeclared Milk, Eggs, Wheat and Soy',\n",
              " 'Apr 03, 2021, 08:19 ET Haldex Annual and Sustainability Report 2020',\n",
              " 'Apr 03, 2021, 07:50 ET Alligator Bioscience postpones the Annual General Meeting to June 1, 2021',\n",
              " 'Apr 03, 2021, 04:30 ET This Is a Test, Please Disregard - D',\n",
              " 'Apr 03, 2021, 03:30 ET This Is a Test, Please Disregard - C',\n",
              " 'Apr 04, 2021, 22:45 ET Wood Resources International LLC: The Global Sawlog Price Index rose 8% in the 4Q/20 as demand for logs was up in North America and Europe',\n",
              " 'Apr 04, 2021, 20:35 ET Applus Provides Update',\n",
              " 'Apr 04, 2021, 08:00 ET Lifshitz Law Firm, P.C. Announces Investigation of CATM, JCS, CTB, CUB, STAY, FFG, MX, PEBO, PFBI',\n",
              " 'Apr 04, 2021, 08:00 ET Lifshitz Law Firm, P.C. Announces Investigation of ATH, WIFI, BMTC, WSFS, DSSI, INSW, FPRX, FI, HWCC, and RMBL',\n",
              " 'Apr 04, 2021, 03:47 ET SHAREHOLDER ALERT: Pomerantz Law Reminds Shareholders with Losses on their Investment in Velodyne Lidar, Inc. of Class Action Lawsuit and Upcoming Deadline - VLDR; VLDRW',\n",
              " 'Apr 04, 2021, 03:47 ET SHAREHOLDER ALERT: Pomerantz Law Firm Reminds Shareholders with Losses on their investment in Clover Health Investments, Corp. f/k/a Social Capital Hedosophia Holdings Corp. III of Class Action Lawsuit and Upcoming Deadline - CLOV; CLOVW; IPOC.U; IPOC; IPOC WS',\n",
              " 'Apr 04, 2021, 03:47 ET SHAREHOLDER ALERT: Pomerantz Law Firm Reminds Shareholders with Losses on their Investment in Apache Corporation of Class Action Lawsuit and Upcoming Deadline - APA',\n",
              " 'Apr 04, 2021, 03:47 ET SHAREHOLDER ALERT: Pomerantz Law Firm Reminds Shareholders with Losses on their Investment in EHang Holdings Limited of Class Action Lawsuit and Upcoming Deadline- EH',\n",
              " 'Apr 04, 2021, 03:47 ET SHAREHOLDER ALERT: Pomerantz Law Firm Reminds Shareholders with Losses on their Investment in bluebird bio, Inc. of Class Action Lawsuit and Upcoming Deadline - BLUE',\n",
              " 'Apr 04, 2021, 03:47 ET SHAREHOLDER ALERT: Pomerantz Law Firm Reminds Shareholders with Losses on their Investment in FuboTV, Inc. of Class Action Lawsuit and Upcoming Deadline - FUBO',\n",
              " 'Apr 04, 2021, 03:47 ET SHAREHOLDER ALERT: Pomerantz Law Firm Investigates Claims On Behalf of Investors of Aquestive Therapeutics, Inc. - AQST',\n",
              " 'Apr 04, 2021, 03:47 ET SHAREHOLDER ALERT: Pomerantz Law Firm Reminds Shareholders with Losses on their Investment in XL Fleet Corp. of Class Action Lawsuit and Upcoming Deadline - XL',\n",
              " 'Apr 04, 2021, 03:47 ET SHAREHOLDER ALERT: Pomerantz Law Firm Reminds Shareholders with Losses on their Investment in Workhorse Group Inc., of Class Action Lawsuit and Upcoming Deadline - WKHS',\n",
              " 'Apr 05, 2021, 23:17 ET First High-School Education Group Announces Fourth Quarter and Fiscal Year 2020 Unaudited Financial Results',\n",
              " 'Apr 05, 2021, 23:00 ET Review of Myopia Management and Plano Announce New Content Partnership',\n",
              " 'Apr 05, 2021, 22:13 ET Go-to Guy für hochreine hBN-Kristalle: Interview mit WPI-MANA-Forscher',\n",
              " \"Apr 05, 2021, 22:11 ET Publication du guide d'information culturelle « COOL SHIGA » de la préfecture de Shiga\",\n",
              " 'Apr 05, 2021, 22:03 ET Netcost Market Executive Vice President Angelina Khristichenko Lauded For Community Based Philanthropic Initiatives And Humanitarian Efforts Throughout 2020 And The 2021 Year Planned Ahead',\n",
              " 'Apr 05, 2021, 22:00 ET Administrative Advantage Provides Notice of Data Event',\n",
              " 'Apr 05, 2021, 21:45 ET HAGENS BERMAN, NATIONAL TRIAL ATTORNEYS, Alerts Lordstown Motors Corp. (RIDE) Investors to EXPANDED FRAUDULENT PERIOD in Securities Fraud Action and Encourages Investors with Significant Losses to Contact its Attorneys',\n",
              " \"Apr 05, 2021, 21:21 ET ESD 11 and CCEMS Agree on Budget for Final Months of CCEMS's Contract\",\n",
              " 'Apr 05, 2021, 20:20 ET Precision LTC Pharmacy Acquires Prime Care Pharmacy Services, Inc.',\n",
              " 'Apr 07, 2021, 00:00 ET ASE TECHNOLOGY HOLDING CO., LTD. Files 2020 Annual Report On Form 20-F',\n",
              " 'Apr 06, 2021, 22:38 ET United Mexican States Announces Pricing Of Its New Notes And Purchase Prices For Its Tender Offer',\n",
              " 'Apr 06, 2021, 22:11 ET (EBON) Alert: Did You Lose Money on Your Ebang Investment? Contact Johnson Fistel Regarding Investigation',\n",
              " 'Apr 07, 2021, 23:56 ET El proveedor de soluciones de cadena de suministro Eka anuncia una ola de contrataciones',\n",
              " 'Apr 07, 2021, 23:52 ET Eka, Anbieter von Cloud-basierten Supply-Chain-Lösungen, kündigt angesichts des starken Geschäftswachstums eine Einstellungswelle an',\n",
              " 'Apr 07, 2021, 23:50 ET SHAREHOLDER ALERT: Pomerantz Law Firm Investigates Claims On Behalf of Investors of Ebang International Holdings Inc - EBON',\n",
              " 'Apr 07, 2021, 23:30 ET Engage2Excel Named Leader in Rewards and Recognition Outsourcing by Everest Group Research Firm',\n",
              " 'Apr 07, 2021, 21:00 ET D-Link Secures Three Red Dot Awards for Outstanding Product Design',\n",
              " 'Apr 07, 2021, 20:05 ET Petrobras Announces Expiration And Expiration Date Results Of Cash Tender Offers',\n",
              " \"Apr 08, 2021, 23:58 ET Ace Hashimoto is the R&B answer to Japan's growing influence in American music\",\n",
              " 'Apr 08, 2021, 23:02 ET Los proyectos de alimentos y bebidas de TOJOY traen nuevos sabores a China',\n",
              " 'Apr 08, 2021, 23:00 ET Lebensmittel- und Getränkeprojekte von TOJOY: Neue Geschmacksrichtungen für China',\n",
              " \"Apr 08, 2021, 23:00 ET Les projets d'alimentation et de boissons TOJOY apportent de nouveaux goûts en Chine\",\n",
              " 'Apr 08, 2021, 22:53 ET Suntech recibe el sello \"Top Brand PV 2021\" de EuPD Research',\n",
              " 'Apr 08, 2021, 22:52 ET Suntech von EuPD Research als „Top Brand PV 2021\" ausgezeichnet',\n",
              " 'Apr 08, 2021, 22:51 ET Suntech reçoit le sceau « meilleure marque du PV 2021 » décerné par EuPD Research',\n",
              " 'Apr 08, 2021, 22:22 ET Signature Aviation U.S. Holdings, Inc. announces a consent solicitation for its 4.000% Senior Notes due 2028',\n",
              " 'Apr 08, 2021, 22:21 ET Signature Aviation US Holdings, Inc. announces a tender offer for its 4.000% Senior Notes due 2028 and related consent solicitation',\n",
              " 'Apr 08, 2021, 22:16 ET Iyuno-SDI Group Secures $160 Million Investment from SoftBank Vision Fund 2',\n",
              " 'Apr 08, 2021, 21:31 ET Mensa Foundation Celebrates 50 Years of Unleashing Intelligence',\n",
              " 'Apr 08, 2021, 21:11 ET Weidai Ltd. Files 2020 Annual Report on Form 20-F',\n",
              " 'Apr 08, 2021, 20:30 ET CourseArc Helps EarthEcho International Expand Their Mission to Inspire Young People to Act Now for a Sustainable Future Through EarthEcho Academy',\n",
              " 'Apr 08, 2021, 20:28 ET Handy Announces Partnership with Gotham Properties',\n",
              " '19:36 ET Mission Peak Capital adquire participação na Mount Street US',\n",
              " '19:30 ET Vinci Partners Infrastructure Listed Fund (VIGT) Announces Full Deployment Of Previous Capital Raise',\n",
              " '19:28 ET Zoomlion anuncia resultados anuais de 2020: a receita aumentou 50,34% em comparação com o ano anterior atingindo um recorde de US$ 9,92 bilhões',\n",
              " '18:52 ET Alec Monopoly Unveiling Full Collection of New Work Available for Purchase Using Only Cryptocurrency Exclusively With Eden Gallery',\n",
              " '18:23 ET Iyuno-SDI Group obtient un investissement de 160 millions de dollars de SoftBank Vision Fund 2',\n",
              " '18:23 ET Zoomlion annonce ses résultats annuels de 2020 : ses revenus ont bondi de 50,34 % sur un an pour atteindre un record de 9,92 milliards de dollars américains',\n",
              " '18:20 ET Iyuno-SDI Gruppe sichert sich 160 Millionen Dollar Investition von SoftBank Vision Fund 2']"
            ]
          },
          "metadata": {
            "tags": []
          },
          "execution_count": 34
        }
      ]
    },
    {
      "cell_type": "code",
      "metadata": {
        "id": "BdKcnK2QCUe8",
        "colab": {
          "base_uri": "https://localhost:8080/",
          "height": 0
        },
        "outputId": "8f9466e9-bd16-4684-ca88-98022ed8c8a4"
      },
      "source": [
        "# a formatted table showing titles and respective description of all the parsed news of last one week\n",
        "# create a dataframe to store the data \n",
        "dataframe = pd.DataFrame(list(zip(all_titles, all_desc)),\n",
        "                        columns=['Title', 'Description'])\n",
        "\n",
        "dataframe"
      ],
      "execution_count": 35,
      "outputs": [
        {
          "output_type": "execute_result",
          "data": {
            "text/html": [
              "<div>\n",
              "<style scoped>\n",
              "    .dataframe tbody tr th:only-of-type {\n",
              "        vertical-align: middle;\n",
              "    }\n",
              "\n",
              "    .dataframe tbody tr th {\n",
              "        vertical-align: top;\n",
              "    }\n",
              "\n",
              "    .dataframe thead th {\n",
              "        text-align: right;\n",
              "    }\n",
              "</style>\n",
              "<table border=\"1\" class=\"dataframe\">\n",
              "  <thead>\n",
              "    <tr style=\"text-align: right;\">\n",
              "      <th></th>\n",
              "      <th>Title</th>\n",
              "      <th>Description</th>\n",
              "    </tr>\n",
              "  </thead>\n",
              "  <tbody>\n",
              "    <tr>\n",
              "      <th>0</th>\n",
              "      <td>Apr 03, 2021, 23:44 ET Behold the pre-ICO Sale...</td>\n",
              "      <td>The acceptance of blockchain technology is on ...</td>\n",
              "    </tr>\n",
              "    <tr>\n",
              "      <th>1</th>\n",
              "      <td>Apr 03, 2021, 19:42 ET Pomerantz Law Firm Anno...</td>\n",
              "      <td>Pomerantz LLP announces that a class action la...</td>\n",
              "    </tr>\n",
              "    <tr>\n",
              "      <th>2</th>\n",
              "      <td>Apr 03, 2021, 12:23 ET Applus Team Working 24/...</td>\n",
              "      <td>Hitachi, Ltd. (TSE : 6501, « Hitachi ») a anno...</td>\n",
              "    </tr>\n",
              "    <tr>\n",
              "      <th>3</th>\n",
              "      <td>Apr 03, 2021, 09:49 ET Hi-Tech Pharmaceuticals...</td>\n",
              "      <td>WHY: Rosen Law Firm, a global investor rights ...</td>\n",
              "    </tr>\n",
              "    <tr>\n",
              "      <th>4</th>\n",
              "      <td>Apr 03, 2021, 08:19 ET Haldex Annual and Susta...</td>\n",
              "      <td>Hitachi, Ltd. (TSE: 6501, „Hitachi\") hat heute...</td>\n",
              "    </tr>\n",
              "    <tr>\n",
              "      <th>5</th>\n",
              "      <td>Apr 03, 2021, 07:50 ET Alligator Bioscience po...</td>\n",
              "      <td>NanoVMs recently unveiled its most recent prod...</td>\n",
              "    </tr>\n",
              "    <tr>\n",
              "      <th>6</th>\n",
              "      <td>Apr 03, 2021, 04:30 ET This Is a Test, Please ...</td>\n",
              "      <td>Hertz Global Holdings, Inc. (OTCPK:HTZGQ) (\"He...</td>\n",
              "    </tr>\n",
              "    <tr>\n",
              "      <th>7</th>\n",
              "      <td>Apr 03, 2021, 03:30 ET This Is a Test, Please ...</td>\n",
              "      <td>The law firm of Kessler Topaz Meltzer &amp; Check,...</td>\n",
              "    </tr>\n",
              "    <tr>\n",
              "      <th>8</th>\n",
              "      <td>Apr 04, 2021, 22:45 ET Wood Resources Internat...</td>\n",
              "      <td>WHY: Rosen Law Firm, a global investor rights ...</td>\n",
              "    </tr>\n",
              "    <tr>\n",
              "      <th>9</th>\n",
              "      <td>Apr 04, 2021, 20:35 ET Applus Provides Update</td>\n",
              "      <td>KEHUA TECH (002335.SZ) KEHUA a obtenu la 5e pl...</td>\n",
              "    </tr>\n",
              "    <tr>\n",
              "      <th>10</th>\n",
              "      <td>Apr 04, 2021, 08:00 ET Lifshitz Law Firm, P.C....</td>\n",
              "      <td>The law firm of Kessler Topaz Meltzer &amp; Check,...</td>\n",
              "    </tr>\n",
              "    <tr>\n",
              "      <th>11</th>\n",
              "      <td>Apr 04, 2021, 08:00 ET Lifshitz Law Firm, P.C....</td>\n",
              "      <td>Applus Technologies, Inc., provides the follow...</td>\n",
              "    </tr>\n",
              "    <tr>\n",
              "      <th>12</th>\n",
              "      <td>Apr 04, 2021, 03:47 ET SHAREHOLDER ALERT: Pome...</td>\n",
              "      <td>WHY: Rosen Law Firm, a global investor rights ...</td>\n",
              "    </tr>\n",
              "    <tr>\n",
              "      <th>13</th>\n",
              "      <td>Apr 04, 2021, 03:47 ET SHAREHOLDER ALERT: Pome...</td>\n",
              "      <td>KEHUA TECH (002335.SZ) wurde laut Omdia, einem...</td>\n",
              "    </tr>\n",
              "    <tr>\n",
              "      <th>14</th>\n",
              "      <td>Apr 04, 2021, 03:47 ET SHAREHOLDER ALERT: Pome...</td>\n",
              "      <td>Hi-Tech Pharmaceuticals. Inc. of Norcross, GA ...</td>\n",
              "    </tr>\n",
              "    <tr>\n",
              "      <th>15</th>\n",
              "      <td>Apr 04, 2021, 03:47 ET SHAREHOLDER ALERT: Pome...</td>\n",
              "      <td>The Monoethylene Glycol market will register a...</td>\n",
              "    </tr>\n",
              "    <tr>\n",
              "      <th>16</th>\n",
              "      <td>Apr 04, 2021, 03:47 ET SHAREHOLDER ALERT: Pome...</td>\n",
              "      <td>Linda Lee Tagliamonte, LE receives Top Aesthet...</td>\n",
              "    </tr>\n",
              "    <tr>\n",
              "      <th>17</th>\n",
              "      <td>Apr 04, 2021, 03:47 ET SHAREHOLDER ALERT: Pome...</td>\n",
              "      <td>Ramzi Najjar, a multi-awarded author, entrepre...</td>\n",
              "    </tr>\n",
              "    <tr>\n",
              "      <th>18</th>\n",
              "      <td>Apr 04, 2021, 03:47 ET SHAREHOLDER ALERT: Pome...</td>\n",
              "      <td>Haldex AB (publ) published the Annual and Sust...</td>\n",
              "    </tr>\n",
              "    <tr>\n",
              "      <th>19</th>\n",
              "      <td>Apr 04, 2021, 03:47 ET SHAREHOLDER ALERT: Pome...</td>\n",
              "      <td>Alligator Bioscience (Nasdaq Stockholm: ATORX)...</td>\n",
              "    </tr>\n",
              "    <tr>\n",
              "      <th>20</th>\n",
              "      <td>Apr 04, 2021, 03:47 ET SHAREHOLDER ALERT: Pome...</td>\n",
              "      <td>Xinjiang, in the far western land of China, ho...</td>\n",
              "    </tr>\n",
              "    <tr>\n",
              "      <th>21</th>\n",
              "      <td>Apr 05, 2021, 23:17 ET First High-School Educa...</td>\n",
              "      <td>This is a test from PR Newswire. This is a tes...</td>\n",
              "    </tr>\n",
              "    <tr>\n",
              "      <th>22</th>\n",
              "      <td>Apr 05, 2021, 23:00 ET Review of Myopia Manage...</td>\n",
              "      <td>This is a test from PR Newswire. This is a tes...</td>\n",
              "    </tr>\n",
              "    <tr>\n",
              "      <th>23</th>\n",
              "      <td>Apr 05, 2021, 22:13 ET Go-to Guy für hochreine...</td>\n",
              "      <td>This is a test from PR Newswire. This is a tes...</td>\n",
              "    </tr>\n",
              "    <tr>\n",
              "      <th>24</th>\n",
              "      <td>Apr 05, 2021, 22:11 ET Publication du guide d'...</td>\n",
              "      <td>This is a test from PR Newswire. This is a tes...</td>\n",
              "    </tr>\n",
              "    <tr>\n",
              "      <th>25</th>\n",
              "      <td>Apr 05, 2021, 22:03 ET Netcost Market Executiv...</td>\n",
              "      <td>Ashok Soota today announced the creation of SK...</td>\n",
              "    </tr>\n",
              "    <tr>\n",
              "      <th>26</th>\n",
              "      <td>Apr 05, 2021, 22:00 ET Administrative Advantag...</td>\n",
              "      <td>Xinjiang, en las lejanas tierras del extremo o...</td>\n",
              "    </tr>\n",
              "    <tr>\n",
              "      <th>27</th>\n",
              "      <td>Apr 05, 2021, 21:45 ET HAGENS BERMAN, NATIONAL...</td>\n",
              "      <td>Xinjiang, no extremo oeste da China, abrigou u...</td>\n",
              "    </tr>\n",
              "    <tr>\n",
              "      <th>28</th>\n",
              "      <td>Apr 05, 2021, 21:21 ET ESD 11 and CCEMS Agree ...</td>\n",
              "      <td>In Xinjiang, im äußersten Westen Chinas, befan...</td>\n",
              "    </tr>\n",
              "    <tr>\n",
              "      <th>29</th>\n",
              "      <td>Apr 05, 2021, 20:20 ET Precision LTC Pharmacy ...</td>\n",
              "      <td>The Sulfuric Acid market will register an incr...</td>\n",
              "    </tr>\n",
              "    <tr>\n",
              "      <th>30</th>\n",
              "      <td>Apr 07, 2021, 00:00 ET ASE TECHNOLOGY HOLDING ...</td>\n",
              "      <td>Both of the WRI's sawlog price indices (Global...</td>\n",
              "    </tr>\n",
              "    <tr>\n",
              "      <th>31</th>\n",
              "      <td>Apr 06, 2021, 22:38 ET United Mexican States A...</td>\n",
              "      <td>Secura Bio, Inc. (Secura Bio, www.securabio.co...</td>\n",
              "    </tr>\n",
              "    <tr>\n",
              "      <th>32</th>\n",
              "      <td>Apr 06, 2021, 22:11 ET (EBON) Alert: Did You L...</td>\n",
              "      <td>Secura Bio, Inc. (Secura Bio) - (www.securabio...</td>\n",
              "    </tr>\n",
              "    <tr>\n",
              "      <th>33</th>\n",
              "      <td>Apr 07, 2021, 23:56 ET El proveedor de solucio...</td>\n",
              "      <td>Secura Bio, Inc. (Secura Bio) (www.securabio.c...</td>\n",
              "    </tr>\n",
              "    <tr>\n",
              "      <th>34</th>\n",
              "      <td>Apr 07, 2021, 23:52 ET Eka, Anbieter von Cloud...</td>\n",
              "      <td>The Registry of Motor Vehicles will have a Q&amp;A...</td>\n",
              "    </tr>\n",
              "    <tr>\n",
              "      <th>35</th>\n",
              "      <td>Apr 07, 2021, 23:50 ET SHAREHOLDER ALERT: Pome...</td>\n",
              "      <td>Hitachi, Ltd. (TSE: 6501, \"Hitachi\") heeft van...</td>\n",
              "    </tr>\n",
              "    <tr>\n",
              "      <th>36</th>\n",
              "      <td>Apr 07, 2021, 23:30 ET Engage2Excel Named Lead...</td>\n",
              "      <td>The law firm of Kessler Topaz Meltzer &amp; Check,...</td>\n",
              "    </tr>\n",
              "    <tr>\n",
              "      <th>37</th>\n",
              "      <td>Apr 07, 2021, 21:00 ET D-Link Secures Three Re...</td>\n",
              "      <td>IMAX (NYSE: IMAX) scored its biggest domestic ...</td>\n",
              "    </tr>\n",
              "    <tr>\n",
              "      <th>38</th>\n",
              "      <td>Apr 07, 2021, 20:05 ET Petrobras Announces Exp...</td>\n",
              "      <td>The Butadiene market will register an incremen...</td>\n",
              "    </tr>\n",
              "    <tr>\n",
              "      <th>39</th>\n",
              "      <td>Apr 08, 2021, 23:58 ET Ace Hashimoto is the R&amp;...</td>\n",
              "      <td>Cardtronics PLC (NASDAQ: CATM) Lifshitz Law Fi...</td>\n",
              "    </tr>\n",
              "    <tr>\n",
              "      <th>40</th>\n",
              "      <td>Apr 08, 2021, 23:02 ET Los proyectos de alimen...</td>\n",
              "      <td>Athene Holding Ltd. (NYSE: ATH) Lifshitz Law F...</td>\n",
              "    </tr>\n",
              "    <tr>\n",
              "      <th>41</th>\n",
              "      <td>Apr 08, 2021, 23:00 ET Lebensmittel- und Geträ...</td>\n",
              "      <td>Pomerantz LLP announces that a class action la...</td>\n",
              "    </tr>\n",
              "    <tr>\n",
              "      <th>42</th>\n",
              "      <td>Apr 08, 2021, 23:00 ET Les projets d'alimentat...</td>\n",
              "      <td>Pomerantz LLP announces that a class action la...</td>\n",
              "    </tr>\n",
              "    <tr>\n",
              "      <th>43</th>\n",
              "      <td>Apr 08, 2021, 22:53 ET Suntech recibe el sello...</td>\n",
              "      <td>Pomerantz LLP announces that a class action la...</td>\n",
              "    </tr>\n",
              "    <tr>\n",
              "      <th>44</th>\n",
              "      <td>Apr 08, 2021, 22:52 ET Suntech von EuPD Resear...</td>\n",
              "      <td>Pomerantz LLP announces that a class action la...</td>\n",
              "    </tr>\n",
              "    <tr>\n",
              "      <th>45</th>\n",
              "      <td>Apr 08, 2021, 22:51 ET Suntech reçoit le sceau...</td>\n",
              "      <td>Pomerantz LLP announces that a class action la...</td>\n",
              "    </tr>\n",
              "    <tr>\n",
              "      <th>46</th>\n",
              "      <td>Apr 08, 2021, 22:22 ET Signature Aviation U.S....</td>\n",
              "      <td>Pomerantz LLP announces that a class action la...</td>\n",
              "    </tr>\n",
              "    <tr>\n",
              "      <th>47</th>\n",
              "      <td>Apr 08, 2021, 22:21 ET Signature Aviation US H...</td>\n",
              "      <td>Pomerantz LLP is investigating claims on behal...</td>\n",
              "    </tr>\n",
              "    <tr>\n",
              "      <th>48</th>\n",
              "      <td>Apr 08, 2021, 22:16 ET Iyuno-SDI Group Secures...</td>\n",
              "      <td>Pomerantz LLP announces that a class action la...</td>\n",
              "    </tr>\n",
              "    <tr>\n",
              "      <th>49</th>\n",
              "      <td>Apr 08, 2021, 21:31 ET Mensa Foundation Celebr...</td>\n",
              "      <td>Pomerantz LLP announces that a class action la...</td>\n",
              "    </tr>\n",
              "    <tr>\n",
              "      <th>50</th>\n",
              "      <td>Apr 08, 2021, 21:11 ET Weidai Ltd. Files 2020 ...</td>\n",
              "      <td>The San Diego County Sheriff's Department (SDS...</td>\n",
              "    </tr>\n",
              "    <tr>\n",
              "      <th>51</th>\n",
              "      <td>Apr 08, 2021, 20:30 ET CourseArc Helps EarthEc...</td>\n",
              "      <td>Das San Diego County Sheriff's Department (SDS...</td>\n",
              "    </tr>\n",
              "    <tr>\n",
              "      <th>52</th>\n",
              "      <td>Apr 08, 2021, 20:28 ET Handy Announces Partner...</td>\n",
              "      <td>Le département du shérif du comté de San Diego...</td>\n",
              "    </tr>\n",
              "    <tr>\n",
              "      <th>53</th>\n",
              "      <td>19:36 ET Mission Peak Capital adquire particip...</td>\n",
              "      <td>El Departamento del Sheriff del Condado de San...</td>\n",
              "    </tr>\n",
              "    <tr>\n",
              "      <th>54</th>\n",
              "      <td>19:30 ET Vinci Partners Infrastructure Listed ...</td>\n",
              "      <td>The report on the kefir products market provid...</td>\n",
              "    </tr>\n",
              "    <tr>\n",
              "      <th>55</th>\n",
              "      <td>19:28 ET Zoomlion anuncia resultados anuais de...</td>\n",
              "      <td>First High-School Education Group Co., Ltd. (\"...</td>\n",
              "    </tr>\n",
              "    <tr>\n",
              "      <th>56</th>\n",
              "      <td>18:52 ET Alec Monopoly Unveiling Full Collecti...</td>\n",
              "      <td>Technavio has been monitoring the musical inst...</td>\n",
              "    </tr>\n",
              "    <tr>\n",
              "      <th>57</th>\n",
              "      <td>18:23 ET Iyuno-SDI Group obtient un investisse...</td>\n",
              "      <td>Technavio has been monitoring the fertility se...</td>\n",
              "    </tr>\n",
              "    <tr>\n",
              "      <th>58</th>\n",
              "      <td>18:23 ET Zoomlion annonce ses résultats annuel...</td>\n",
              "      <td>Review of Myopia Management (RMM) is pleased t...</td>\n",
              "    </tr>\n",
              "    <tr>\n",
              "      <th>59</th>\n",
              "      <td>18:20 ET Iyuno-SDI Gruppe sichert sich 160 Mil...</td>\n",
              "      <td>The professional skincare market is expected t...</td>\n",
              "    </tr>\n",
              "  </tbody>\n",
              "</table>\n",
              "</div>"
            ],
            "text/plain": [
              "                                                Title                                        Description\n",
              "0   Apr 03, 2021, 23:44 ET Behold the pre-ICO Sale...  The acceptance of blockchain technology is on ...\n",
              "1   Apr 03, 2021, 19:42 ET Pomerantz Law Firm Anno...  Pomerantz LLP announces that a class action la...\n",
              "2   Apr 03, 2021, 12:23 ET Applus Team Working 24/...  Hitachi, Ltd. (TSE : 6501, « Hitachi ») a anno...\n",
              "3   Apr 03, 2021, 09:49 ET Hi-Tech Pharmaceuticals...  WHY: Rosen Law Firm, a global investor rights ...\n",
              "4   Apr 03, 2021, 08:19 ET Haldex Annual and Susta...  Hitachi, Ltd. (TSE: 6501, „Hitachi\") hat heute...\n",
              "5   Apr 03, 2021, 07:50 ET Alligator Bioscience po...  NanoVMs recently unveiled its most recent prod...\n",
              "6   Apr 03, 2021, 04:30 ET This Is a Test, Please ...  Hertz Global Holdings, Inc. (OTCPK:HTZGQ) (\"He...\n",
              "7   Apr 03, 2021, 03:30 ET This Is a Test, Please ...  The law firm of Kessler Topaz Meltzer & Check,...\n",
              "8   Apr 04, 2021, 22:45 ET Wood Resources Internat...  WHY: Rosen Law Firm, a global investor rights ...\n",
              "9       Apr 04, 2021, 20:35 ET Applus Provides Update  KEHUA TECH (002335.SZ) KEHUA a obtenu la 5e pl...\n",
              "10  Apr 04, 2021, 08:00 ET Lifshitz Law Firm, P.C....  The law firm of Kessler Topaz Meltzer & Check,...\n",
              "11  Apr 04, 2021, 08:00 ET Lifshitz Law Firm, P.C....  Applus Technologies, Inc., provides the follow...\n",
              "12  Apr 04, 2021, 03:47 ET SHAREHOLDER ALERT: Pome...  WHY: Rosen Law Firm, a global investor rights ...\n",
              "13  Apr 04, 2021, 03:47 ET SHAREHOLDER ALERT: Pome...  KEHUA TECH (002335.SZ) wurde laut Omdia, einem...\n",
              "14  Apr 04, 2021, 03:47 ET SHAREHOLDER ALERT: Pome...  Hi-Tech Pharmaceuticals. Inc. of Norcross, GA ...\n",
              "15  Apr 04, 2021, 03:47 ET SHAREHOLDER ALERT: Pome...  The Monoethylene Glycol market will register a...\n",
              "16  Apr 04, 2021, 03:47 ET SHAREHOLDER ALERT: Pome...  Linda Lee Tagliamonte, LE receives Top Aesthet...\n",
              "17  Apr 04, 2021, 03:47 ET SHAREHOLDER ALERT: Pome...  Ramzi Najjar, a multi-awarded author, entrepre...\n",
              "18  Apr 04, 2021, 03:47 ET SHAREHOLDER ALERT: Pome...  Haldex AB (publ) published the Annual and Sust...\n",
              "19  Apr 04, 2021, 03:47 ET SHAREHOLDER ALERT: Pome...  Alligator Bioscience (Nasdaq Stockholm: ATORX)...\n",
              "20  Apr 04, 2021, 03:47 ET SHAREHOLDER ALERT: Pome...  Xinjiang, in the far western land of China, ho...\n",
              "21  Apr 05, 2021, 23:17 ET First High-School Educa...  This is a test from PR Newswire. This is a tes...\n",
              "22  Apr 05, 2021, 23:00 ET Review of Myopia Manage...  This is a test from PR Newswire. This is a tes...\n",
              "23  Apr 05, 2021, 22:13 ET Go-to Guy für hochreine...  This is a test from PR Newswire. This is a tes...\n",
              "24  Apr 05, 2021, 22:11 ET Publication du guide d'...  This is a test from PR Newswire. This is a tes...\n",
              "25  Apr 05, 2021, 22:03 ET Netcost Market Executiv...  Ashok Soota today announced the creation of SK...\n",
              "26  Apr 05, 2021, 22:00 ET Administrative Advantag...  Xinjiang, en las lejanas tierras del extremo o...\n",
              "27  Apr 05, 2021, 21:45 ET HAGENS BERMAN, NATIONAL...  Xinjiang, no extremo oeste da China, abrigou u...\n",
              "28  Apr 05, 2021, 21:21 ET ESD 11 and CCEMS Agree ...  In Xinjiang, im äußersten Westen Chinas, befan...\n",
              "29  Apr 05, 2021, 20:20 ET Precision LTC Pharmacy ...  The Sulfuric Acid market will register an incr...\n",
              "30  Apr 07, 2021, 00:00 ET ASE TECHNOLOGY HOLDING ...  Both of the WRI's sawlog price indices (Global...\n",
              "31  Apr 06, 2021, 22:38 ET United Mexican States A...  Secura Bio, Inc. (Secura Bio, www.securabio.co...\n",
              "32  Apr 06, 2021, 22:11 ET (EBON) Alert: Did You L...  Secura Bio, Inc. (Secura Bio) - (www.securabio...\n",
              "33  Apr 07, 2021, 23:56 ET El proveedor de solucio...  Secura Bio, Inc. (Secura Bio) (www.securabio.c...\n",
              "34  Apr 07, 2021, 23:52 ET Eka, Anbieter von Cloud...  The Registry of Motor Vehicles will have a Q&A...\n",
              "35  Apr 07, 2021, 23:50 ET SHAREHOLDER ALERT: Pome...  Hitachi, Ltd. (TSE: 6501, \"Hitachi\") heeft van...\n",
              "36  Apr 07, 2021, 23:30 ET Engage2Excel Named Lead...  The law firm of Kessler Topaz Meltzer & Check,...\n",
              "37  Apr 07, 2021, 21:00 ET D-Link Secures Three Re...  IMAX (NYSE: IMAX) scored its biggest domestic ...\n",
              "38  Apr 07, 2021, 20:05 ET Petrobras Announces Exp...  The Butadiene market will register an incremen...\n",
              "39  Apr 08, 2021, 23:58 ET Ace Hashimoto is the R&...  Cardtronics PLC (NASDAQ: CATM) Lifshitz Law Fi...\n",
              "40  Apr 08, 2021, 23:02 ET Los proyectos de alimen...  Athene Holding Ltd. (NYSE: ATH) Lifshitz Law F...\n",
              "41  Apr 08, 2021, 23:00 ET Lebensmittel- und Geträ...  Pomerantz LLP announces that a class action la...\n",
              "42  Apr 08, 2021, 23:00 ET Les projets d'alimentat...  Pomerantz LLP announces that a class action la...\n",
              "43  Apr 08, 2021, 22:53 ET Suntech recibe el sello...  Pomerantz LLP announces that a class action la...\n",
              "44  Apr 08, 2021, 22:52 ET Suntech von EuPD Resear...  Pomerantz LLP announces that a class action la...\n",
              "45  Apr 08, 2021, 22:51 ET Suntech reçoit le sceau...  Pomerantz LLP announces that a class action la...\n",
              "46  Apr 08, 2021, 22:22 ET Signature Aviation U.S....  Pomerantz LLP announces that a class action la...\n",
              "47  Apr 08, 2021, 22:21 ET Signature Aviation US H...  Pomerantz LLP is investigating claims on behal...\n",
              "48  Apr 08, 2021, 22:16 ET Iyuno-SDI Group Secures...  Pomerantz LLP announces that a class action la...\n",
              "49  Apr 08, 2021, 21:31 ET Mensa Foundation Celebr...  Pomerantz LLP announces that a class action la...\n",
              "50  Apr 08, 2021, 21:11 ET Weidai Ltd. Files 2020 ...  The San Diego County Sheriff's Department (SDS...\n",
              "51  Apr 08, 2021, 20:30 ET CourseArc Helps EarthEc...  Das San Diego County Sheriff's Department (SDS...\n",
              "52  Apr 08, 2021, 20:28 ET Handy Announces Partner...  Le département du shérif du comté de San Diego...\n",
              "53  19:36 ET Mission Peak Capital adquire particip...  El Departamento del Sheriff del Condado de San...\n",
              "54  19:30 ET Vinci Partners Infrastructure Listed ...  The report on the kefir products market provid...\n",
              "55  19:28 ET Zoomlion anuncia resultados anuais de...  First High-School Education Group Co., Ltd. (\"...\n",
              "56  18:52 ET Alec Monopoly Unveiling Full Collecti...  Technavio has been monitoring the musical inst...\n",
              "57  18:23 ET Iyuno-SDI Group obtient un investisse...  Technavio has been monitoring the fertility se...\n",
              "58  18:23 ET Zoomlion annonce ses résultats annuel...  Review of Myopia Management (RMM) is pleased t...\n",
              "59  18:20 ET Iyuno-SDI Gruppe sichert sich 160 Mil...  The professional skincare market is expected t..."
            ]
          },
          "metadata": {
            "tags": []
          },
          "execution_count": 35
        }
      ]
    },
    {
      "cell_type": "code",
      "metadata": {
        "id": "zhEvzp4472gG",
        "colab": {
          "base_uri": "https://localhost:8080/"
        },
        "outputId": "935b7a20-258d-47fe-89b4-02221d00a442"
      },
      "source": [
        "#gives number of rows and columns of above dataframe\n",
        "dataframe.shape"
      ],
      "execution_count": 36,
      "outputs": [
        {
          "output_type": "execute_result",
          "data": {
            "text/plain": [
              "(60, 2)"
            ]
          },
          "metadata": {
            "tags": []
          },
          "execution_count": 36
        }
      ]
    },
    {
      "cell_type": "code",
      "metadata": {
        "id": "AL_5NC8ySp05",
        "colab": {
          "base_uri": "https://localhost:8080/"
        },
        "outputId": "1ae1402c-e1ef-4f5d-d6ef-244b923d6f6d"
      },
      "source": [
        "# Regex to match the company stock symbols\n",
        "regex = '[A-Z]+: [A-Z]+'\n",
        "\n",
        "# Lambda function to find all the symbols in the dataframe\n",
        "find_symbols = lambda x: re.findall(regex, x)\n",
        "\n",
        "# Filter the dataframe to search stock symbol\n",
        "ddf = dataframe.Description.apply(find_symbols)\n",
        "\n",
        "# Convert the dataframe to list\n",
        "result = ddf.values.tolist()\n",
        "\n",
        "# Clean and remove the empty values in the list\n",
        "filtered = list(filter(None, result))\n",
        "filtered"
      ],
      "execution_count": 37,
      "outputs": [
        {
          "output_type": "execute_result",
          "data": {
            "text/plain": [
              "[['NASDAQ: KDMN'],\n",
              " ['WHY: R', 'NYSE: UAVS'],\n",
              " ['CEO: S'],\n",
              " ['NASDAQ: WKHS'],\n",
              " ['WHY: R', 'NASDAQ: EBIX'],\n",
              " ['NASDAQ: ROOT'],\n",
              " ['WHY: R', 'NASDAQ: REGI'],\n",
              " ['ABOUT: L'],\n",
              " ['CEO: S'],\n",
              " ['NYSE: IMAX'],\n",
              " ['NASDAQ: CATM'],\n",
              " ['NYSE: ATH'],\n",
              " ['NASDAQ: VLDR'],\n",
              " ['NASDAQ: APA'],\n",
              " ['NASDAQ: EH'],\n",
              " ['NASDAQ: BLUE'],\n",
              " ['NYSE: FUBO'],\n",
              " ['NASDAQ: AQST'],\n",
              " ['NYSE: XL'],\n",
              " ['NASDAQ: WKHS'],\n",
              " ['NYSE: FHS']]"
            ]
          },
          "metadata": {
            "tags": []
          },
          "execution_count": 37
        }
      ]
    },
    {
      "cell_type": "code",
      "metadata": {
        "id": "X35KaPQOgbTR",
        "colab": {
          "base_uri": "https://localhost:8080/"
        },
        "outputId": "505ebe68-4909-4d5b-b8c5-6315ad624708"
      },
      "source": [
        "#gives the first element from the list filtered[]\n",
        "filtered[0]"
      ],
      "execution_count": 38,
      "outputs": [
        {
          "output_type": "execute_result",
          "data": {
            "text/plain": [
              "['NASDAQ: KDMN']"
            ]
          },
          "metadata": {
            "tags": []
          },
          "execution_count": 38
        }
      ]
    },
    {
      "cell_type": "code",
      "metadata": {
        "id": "3H-GFu1oEvby"
      },
      "source": [
        "# Consider the first value of the filtered list\n",
        "all_symbol = filtered[0]"
      ],
      "execution_count": 39,
      "outputs": []
    },
    {
      "cell_type": "code",
      "metadata": {
        "id": "C-_jYw3kQITI"
      },
      "source": [
        "# Take default Tesla stock symbol if we dont get any from parsed values\n",
        "if not all_symbol:\n",
        "  all_symbol = ['TSX: TSLA']\n"
      ],
      "execution_count": 40,
      "outputs": []
    },
    {
      "cell_type": "code",
      "metadata": {
        "id": "vYchy63z_5_w"
      },
      "source": [
        "# stores the company's symbol(second part of the filtered[0]) from all_symbol first element\n",
        "company_symbol = all_symbol[0].split()[-1]"
      ],
      "execution_count": 41,
      "outputs": []
    },
    {
      "cell_type": "markdown",
      "metadata": {
        "id": "CTuN1A_dGh7o"
      },
      "source": [
        "###Part 3\n",
        "Scan Yahoo! Finance page for the stock symbol appeared in the news and get the stock prices and volume for last 10 days."
      ]
    },
    {
      "cell_type": "code",
      "metadata": {
        "id": "T_-KLKLCNN5D"
      },
      "source": [
        "#stores the yahoo! finance url with fetched company_symbol\n",
        "stock_symbol = company_symbol\n",
        "\n",
        "# URL for historical page view\n",
        "yahoo_url = f'https://finance.yahoo.com/quote/{stock_symbol}/history?p={stock_symbol}'"
      ],
      "execution_count": 42,
      "outputs": []
    },
    {
      "cell_type": "code",
      "metadata": {
        "id": "8dVppQRGW44a",
        "colab": {
          "base_uri": "https://localhost:8080/",
          "height": 0
        },
        "outputId": "ccf400ec-4cd1-4556-b513-9ef0c2059844"
      },
      "source": [
        "# Print the yahoo finance url\n",
        "yahoo_url"
      ],
      "execution_count": 43,
      "outputs": [
        {
          "output_type": "execute_result",
          "data": {
            "application/vnd.google.colaboratory.intrinsic+json": {
              "type": "string"
            },
            "text/plain": [
              "'https://finance.yahoo.com/quote/KDMN/history?p=KDMN'"
            ]
          },
          "metadata": {
            "tags": []
          },
          "execution_count": 43
        }
      ]
    },
    {
      "cell_type": "code",
      "metadata": {
        "id": "aPQKdHT9W74q"
      },
      "source": [
        "# Make a request to fetch the yahoo url historical data\n",
        "yahoo_response = requests.get(yahoo_url)\n",
        "\n",
        "# Load the recieve html data to BeautifulSoup\n",
        "yahoo_soup = BeautifulSoup(yahoo_response.text, 'html.parser')"
      ],
      "execution_count": 44,
      "outputs": []
    },
    {
      "cell_type": "code",
      "metadata": {
        "id": "osaK1HKpXgds"
      },
      "source": [
        "#variable all_rows stores all the rows of the table containing historical data in the form of html table rows <tr> format\n",
        "all_rows = yahoo_soup.table.tbody.find_all('tr')"
      ],
      "execution_count": 45,
      "outputs": []
    },
    {
      "cell_type": "code",
      "metadata": {
        "id": "qvtn1RMvXhVC",
        "colab": {
          "base_uri": "https://localhost:8080/",
          "height": 0
        },
        "outputId": "76c65aeb-b267-4e34-d14d-3ec70d8bc417"
      },
      "source": [
        "# this block enlists price, volume and date from fetched rows in all_rows in a dataframe\n",
        "price_list = []\n",
        "volume_list = []\n",
        "date_list = []\n",
        "\n",
        "# to get text from <td> tags fetched from table for price, volume and date\n",
        "for tr in all_rows:\n",
        "\n",
        "  data = tr.find_all('td')\n",
        "  price = data[-2].text\n",
        "  volume = data[-1].text\n",
        "  date = data[0].text\n",
        "  \n",
        "  #Append price,volume and date in order to display in a dataframe\n",
        "  price_list.append(price)\n",
        "  volume_list.append(volume)\n",
        "  date_list.append(date)\n",
        "\n",
        "# Price and volume columns are created and filled in the dataframe together using 'zip'\n",
        "df = pd.DataFrame(list(zip(price_list, volume_list)),\n",
        "                       columns= ['Price', 'Volume'])\n",
        "# date column is appended separately in order to convert the dates from string to date format\n",
        "df['Date'] = pd.to_datetime(date_list)\n",
        "df"
      ],
      "execution_count": 46,
      "outputs": [
        {
          "output_type": "execute_result",
          "data": {
            "text/html": [
              "<div>\n",
              "<style scoped>\n",
              "    .dataframe tbody tr th:only-of-type {\n",
              "        vertical-align: middle;\n",
              "    }\n",
              "\n",
              "    .dataframe tbody tr th {\n",
              "        vertical-align: top;\n",
              "    }\n",
              "\n",
              "    .dataframe thead th {\n",
              "        text-align: right;\n",
              "    }\n",
              "</style>\n",
              "<table border=\"1\" class=\"dataframe\">\n",
              "  <thead>\n",
              "    <tr style=\"text-align: right;\">\n",
              "      <th></th>\n",
              "      <th>Price</th>\n",
              "      <th>Volume</th>\n",
              "      <th>Date</th>\n",
              "    </tr>\n",
              "  </thead>\n",
              "  <tbody>\n",
              "    <tr>\n",
              "      <th>0</th>\n",
              "      <td>3.6600</td>\n",
              "      <td>1,927,385</td>\n",
              "      <td>2021-04-09</td>\n",
              "    </tr>\n",
              "    <tr>\n",
              "      <th>1</th>\n",
              "      <td>3.8500</td>\n",
              "      <td>1,203,000</td>\n",
              "      <td>2021-04-08</td>\n",
              "    </tr>\n",
              "    <tr>\n",
              "      <th>2</th>\n",
              "      <td>3.7600</td>\n",
              "      <td>1,699,700</td>\n",
              "      <td>2021-04-07</td>\n",
              "    </tr>\n",
              "    <tr>\n",
              "      <th>3</th>\n",
              "      <td>3.8600</td>\n",
              "      <td>2,638,400</td>\n",
              "      <td>2021-04-06</td>\n",
              "    </tr>\n",
              "    <tr>\n",
              "      <th>4</th>\n",
              "      <td>4.1500</td>\n",
              "      <td>3,236,000</td>\n",
              "      <td>2021-04-05</td>\n",
              "    </tr>\n",
              "    <tr>\n",
              "      <th>...</th>\n",
              "      <td>...</td>\n",
              "      <td>...</td>\n",
              "      <td>...</td>\n",
              "    </tr>\n",
              "    <tr>\n",
              "      <th>95</th>\n",
              "      <td>3.9000</td>\n",
              "      <td>2,791,400</td>\n",
              "      <td>2020-11-19</td>\n",
              "    </tr>\n",
              "    <tr>\n",
              "      <th>96</th>\n",
              "      <td>3.7500</td>\n",
              "      <td>1,639,000</td>\n",
              "      <td>2020-11-18</td>\n",
              "    </tr>\n",
              "    <tr>\n",
              "      <th>97</th>\n",
              "      <td>3.8300</td>\n",
              "      <td>2,714,500</td>\n",
              "      <td>2020-11-17</td>\n",
              "    </tr>\n",
              "    <tr>\n",
              "      <th>98</th>\n",
              "      <td>3.4900</td>\n",
              "      <td>2,642,200</td>\n",
              "      <td>2020-11-16</td>\n",
              "    </tr>\n",
              "    <tr>\n",
              "      <th>99</th>\n",
              "      <td>3.4600</td>\n",
              "      <td>2,739,700</td>\n",
              "      <td>2020-11-13</td>\n",
              "    </tr>\n",
              "  </tbody>\n",
              "</table>\n",
              "<p>100 rows × 3 columns</p>\n",
              "</div>"
            ],
            "text/plain": [
              "     Price     Volume       Date\n",
              "0   3.6600  1,927,385 2021-04-09\n",
              "1   3.8500  1,203,000 2021-04-08\n",
              "2   3.7600  1,699,700 2021-04-07\n",
              "3   3.8600  2,638,400 2021-04-06\n",
              "4   4.1500  3,236,000 2021-04-05\n",
              "..     ...        ...        ...\n",
              "95  3.9000  2,791,400 2020-11-19\n",
              "96  3.7500  1,639,000 2020-11-18\n",
              "97  3.8300  2,714,500 2020-11-17\n",
              "98  3.4900  2,642,200 2020-11-16\n",
              "99  3.4600  2,739,700 2020-11-13\n",
              "\n",
              "[100 rows x 3 columns]"
            ]
          },
          "metadata": {
            "tags": []
          },
          "execution_count": 46
        }
      ]
    },
    {
      "cell_type": "code",
      "metadata": {
        "id": "VZ4P96mCU2BU"
      },
      "source": [
        "# Parse the company name of symbol using the class params\n",
        "company_name = yahoo_soup.find_all('h1', {'class': 'D(ib)'})[0].text"
      ],
      "execution_count": 47,
      "outputs": []
    },
    {
      "cell_type": "markdown",
      "metadata": {
        "id": "RLq72WImG83D"
      },
      "source": [
        "###Part 4 \n",
        "Visualizations of stock prices for last 10 days showing time-series plot for Volume and Daily close price."
      ]
    },
    {
      "cell_type": "code",
      "metadata": {
        "id": "-vHO1FC1k2dd",
        "colab": {
          "base_uri": "https://localhost:8080/",
          "height": 367
        },
        "outputId": "08714092-5855-44c9-b72e-b450901dd6c1"
      },
      "source": [
        "# Import packages for visual graph\n",
        "import matplotlib.pyplot as plt\n",
        "\n",
        "# Usage seaborn style\n",
        "plt.style.use('seaborn')\n",
        "\n",
        "# Subplots\n",
        "fig, (ax1, ax2) = plt.subplots(nrows=2, ncols=1) #MS\n",
        "\n",
        "# The plotting Data\n",
        "dates = df.Date[:10]\n",
        "prices = df.Price[:10]\n",
        "volumes = df.Volume[:10]\n",
        "\n",
        "# Time-Price plot\n",
        "ax1.plot(dates, prices, color='green', linestyle='--', label=\"Prices\")\n",
        "ax1.set_title(company_name + ' History of 10 days')\n",
        "ax1.set_xlabel('Date')\n",
        "ax1.set_ylabel('Price')\n",
        "ax1.legend()\n",
        "\n",
        "# Time-Volume plot \n",
        "ax2.plot(dates, volumes, color='blue', label=\"Volume\")\n",
        "ax2.set_title(company_name + ' History of 10 days')\n",
        "ax2.set_xlabel('Date')\n",
        "ax2.set_ylabel('Volume')\n",
        "ax2.legend()\n",
        "\n",
        "plt.setp(ax1.get_xticklabels(), rotation=30, horizontalalignment='right') \n",
        "plt.setp(ax2.get_xticklabels(), rotation=30, horizontalalignment='right') \n",
        "fig.subplots_adjust(bottom=0.8)\n",
        "\n",
        "fig.tight_layout(pad=3.0)\n",
        "plt.show()\n"
      ],
      "execution_count": 48,
      "outputs": [
        {
          "output_type": "display_data",
          "data": {
            "image/png": "[encoded data removed]",
            "text/plain": [
              "<Figure size 576x396 with 2 Axes>"
            ]
          },
          "metadata": {
            "tags": []
          }
        }
      ]
    },
    {
      "cell_type": "markdown",
      "metadata": {
        "id": "OWES2kCQJFI1"
      },
      "source": [
        "The output seems to give a fair understanding about the Kadmon Holdings Inc. graph how within past 10 days their price fluctuated and volume slowly started steeping down"
      ]
    }
  ]
}